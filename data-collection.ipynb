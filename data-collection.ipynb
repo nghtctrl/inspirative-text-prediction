{
 "cells": [
  {
   "cell_type": "code",
   "execution_count": null,
   "metadata": {},
   "outputs": [],
   "source": [
    "import concurrent.futures\n",
    "import pandas as pd\n",
    "import requests\n",
    "import random"
   ]
  },
  {
   "cell_type": "code",
   "execution_count": null,
   "metadata": {},
   "outputs": [],
   "source": [
    "def get_book(book_id: int) -> (str, str):\n",
    "    \"\"\"Get a book from Project Gutenberg\n",
    "\n",
    "    Arg:\n",
    "        book_id: The id of the book to get\n",
    "\n",
    "    Returns:\n",
    "        A tuple containing the book id and the book text\n",
    "    \"\"\"\n",
    "\n",
    "    gutendex_url = f\"https://gutendex.com/books/{book_id}/\"\n",
    "\n",
    "    response = requests.get(gutendex_url)\n",
    "    response.raise_for_status()\n",
    "    data = response.json()\n",
    "\n",
    "    book_language = data[\"languages\"]\n",
    "\n",
    "    book_title = data[\"title\"]\n",
    "    book_url = None\n",
    "\n",
    "    mime_types = [\"text/plain; charset=us-ascii\", \"text/plain\"]\n",
    "\n",
    "    for mime_type in mime_types:\n",
    "        if mime_type in data[\"formats\"]:\n",
    "            book_url = data[\"formats\"][mime_type]\n",
    "            break\n",
    "\n",
    "    if book_url is None:\n",
    "        raise Exception(f\"No text/plain format found for {book_id}\")\n",
    "\n",
    "    response = requests.get(book_url)\n",
    "    response.raise_for_status()\n",
    "\n",
    "    return book_id, book_language, book_title, response.text"
   ]
  },
  {
   "cell_type": "code",
   "execution_count": null,
   "metadata": {},
   "outputs": [],
   "source": [
    "def get_n_books(n: int) -> pd.DataFrame:\n",
    "    \"\"\"Get n books from Project Gutenberg\n",
    "\n",
    "    Arg:\n",
    "        n: The number of books to get\n",
    "\n",
    "    Returns:\n",
    "        A dataframe containing the book id, language, title, and text\n",
    "    \"\"\"\n",
    "\n",
    "    max_book_count = requests.get(\"https://gutendex.com/books/\").json()[\"count\"]\n",
    "    random_book_numbers = random.sample(range(max_book_count), n)\n",
    "\n",
    "    books = []\n",
    "\n",
    "    with concurrent.futures.ThreadPoolExecutor() as executor:\n",
    "        futures = [\n",
    "            executor.submit(get_book, book_id) for book_id in random_book_numbers\n",
    "        ]\n",
    "\n",
    "        for future in concurrent.futures.as_completed(futures):\n",
    "            try:\n",
    "                book_id, book_language, book_title, book_text = future.result()\n",
    "                books.append((book_id, book_language, book_title, book_text))\n",
    "            except Exception as e:\n",
    "                print(e)\n",
    "                continue\n",
    "\n",
    "    return pd.DataFrame(books, columns=[\"book_id\", \"languages\", \"title\", \"text\"])"
   ]
  },
  {
   "cell_type": "code",
   "execution_count": null,
   "metadata": {},
   "outputs": [],
   "source": [
    "df_books1000 = get_n_books(1000)\n",
    "df_books1000.to_parquet(\"books1000.parquet\", engine=\"fastparquet\", compression=\"gzip\")"
   ]
  }
 ],
 "metadata": {
  "kernelspec": {
   "display_name": "Python 3 (ipykernel)",
   "language": "python",
   "name": "python3"
  },
  "language_info": {
   "codemirror_mode": {
    "name": "ipython",
    "version": 3
   },
   "file_extension": ".py",
   "mimetype": "text/x-python",
   "name": "python",
   "nbconvert_exporter": "python",
   "pygments_lexer": "ipython3",
   "version": "3.11.6"
  }
 },
 "nbformat": 4,
 "nbformat_minor": 2
}
